{
 "cells": [
  {
   "cell_type": "code",
   "execution_count": null,
   "id": "41e63bef-58d6-4031-bcb1-f1f6cdcaab6c",
   "metadata": {},
   "outputs": [],
   "source": [
    "import numpy as np\n",
    "import uproot as ur\n",
    "import pandas as pd\n",
    "import awkward as ak\n",
    "\n",
    "import matplotlib.pyplot as plt\n",
    "\n",
    "from myenv.icarusplot.icarusplot import *\n",
    "\n",
    "import matplotlib\n",
    "matplotlib.style.use('~/ICARUS_GUNDAM_Workshop/myenv/icarusplot/icarus_style.mplstyle')"
   ]
  },
  {
   "cell_type": "code",
   "execution_count": null,
   "id": "4555b2e2-fe2b-4b61-b84e-54c718cd1eef",
   "metadata": {},
   "outputs": [],
   "source": [
    "import logging\n",
    "logging.getLogger('matplotlib.font_manager').disabled = True"
   ]
  },
  {
   "cell_type": "markdown",
   "id": "8fba9e02-557e-4663-8a67-90ca5aadfd96",
   "metadata": {},
   "source": [
    "# Let's look at our file"
   ]
  },
  {
   "cell_type": "code",
   "execution_count": null,
   "id": "bf7fbb7e-d9a3-4ad7-8e4d-fc455a15dccd",
   "metadata": {},
   "outputs": [],
   "source": [
    "#with ur.open('demo.root') as f:\n",
    "#    print(f.keys())"
   ]
  },
  {
   "cell_type": "markdown",
   "id": "27fbb269-1b73-4ee8-a46b-8e277ca81823",
   "metadata": {},
   "source": [
    "# While GUNDAM wants the TClonesArrays, we will use the nomal one so we can draw the systematics. Let's get all the trees"
   ]
  },
  {
   "cell_type": "code",
   "execution_count": null,
   "id": "a9e4a47e-9736-4f22-b47d-824065f8a70e",
   "metadata": {},
   "outputs": [],
   "source": [
    "with ur.open('demo.root') as f:\n",
    "    # Selected tree\n",
    "    selected=f['selectedTree/Systematics']\n",
    "    branchSel=[i.name for i in selected.branches]\n",
    "    selectionTree=selected.arrays(branchSel,library='ak')\n",
    "    # Truth tree\n",
    "    truth=f['truthTree/Truth']\n",
    "    branchTrue=[i.name for i in truth.branches]\n",
    "    truthTree=truth.arrays(branchTrue,library='ak')\n",
    "    # CCQE covariance info\n",
    "    # -- tree\n",
    "    truthCCQE=f['truthTreeCCQE/TruthCCQE']\n",
    "    branchTrueCCQE=[i.name for i in truthCCQE.branches]\n",
    "    truthTreeCCQE=truthCCQE.arrays(branchTrueCCQE,library='ak')"
   ]
  },
  {
   "cell_type": "code",
   "execution_count": null,
   "id": "8bcf19e8-53c1-48c7-999b-8616a77cdb5b",
   "metadata": {},
   "outputs": [],
   "source": []
  },
  {
   "cell_type": "markdown",
   "id": "34666211-130c-4c17-8dd1-91089251c989",
   "metadata": {},
   "source": [
    "### Plot the selected signal (category=1) and backgrounds (OOPS=2, OtherCC=3, NuNC=4, Other=5)"
   ]
  },
  {
   "cell_type": "code",
   "execution_count": null,
   "id": "c51c173f-8e4f-4310-b6d9-097713d72032",
   "metadata": {},
   "outputs": [],
   "source": [
    "sel_signal = selectionTree[ ak.where( selectionTree['kNuMISliceSignalType']==1 ) ]\n",
    "sel_oops = selectionTree[ ak.where( selectionTree['kNuMISliceSignalType']==2 ) ]\n",
    "sel_othercc = selectionTree[ ak.where( selectionTree['kNuMISliceSignalType']==3 ) ]\n",
    "sel_nunc = selectionTree[ ak.where( selectionTree['kNuMISliceSignalType']==4 ) ]\n",
    "sel_other = selectionTree[ ak.where( selectionTree['kNuMISliceSignalType']==5 ) ]"
   ]
  },
  {
   "cell_type": "code",
   "execution_count": null,
   "id": "69213b34-fee3-4e1c-bbbf-c3edbfdeba0b",
   "metadata": {},
   "outputs": [],
   "source": [
    "fig, ax = plt.subplots()\n",
    "binsCosThMuP = np.linspace(-1.,1.,21)\n",
    "\n",
    "ax.hist( selectionTree['kRecoCosThMuP'], bins=binsCosThMuP, histtype='step' )\n",
    "ax.hist( [sel_signal['kRecoCosThMuP'], sel_oops['kRecoCosThMuP'], sel_othercc['kRecoCosThMuP'],\\\n",
    "          sel_nunc['kRecoCosThMuP'], sel_other['kRecoCosThMuP']], bins=binsCosThMuP,\n",
    "         label=['Signal', 'OOPS', 'OtherCC', 'NuNC', 'Other'], histtype='barstacked' )\n",
    "\n",
    "ax.set_xlim(-1,1)\n",
    "ax.set_xlabel('cos('+r'$\\theta_{\\mu,p}$'+')')\n",
    "ax.set_ylabel('Count')\n",
    "ax.legend()"
   ]
  },
  {
   "cell_type": "code",
   "execution_count": null,
   "id": "53f5e4c0-5291-45c0-ac5e-684159218a12",
   "metadata": {},
   "outputs": [],
   "source": []
  },
  {
   "cell_type": "code",
   "execution_count": null,
   "id": "e2a22d15-a737-47a3-9f52-18bf6b131319",
   "metadata": {},
   "outputs": [],
   "source": [
    "fig, ax = plt.subplots()\n",
    "binsCosThMuP = np.linspace(-1.,1.,21)\n",
    "\n",
    "ax.hist( selectionTree['kRecoCosThMuP'], bins=binsCosThMuP, histtype='step', label='Nominal' )\n",
    "ax.hist( selectionTree['kRecoCosThMuP'], weights=selectionTree['GENIEReWeight_ICARUS_v2_multisigma_ZExpA1CCQE'][:,2],\\\n",
    "         bins=binsCosThMuP, histtype='step', label='-1'+r'$\\sigma$', color='red', linestyle='--' )\n",
    "ax.hist( selectionTree['kRecoCosThMuP'], weights=selectionTree['GENIEReWeight_ICARUS_v2_multisigma_ZExpA1CCQE'][:,4],\\\n",
    "         bins=binsCosThMuP, histtype='step', label='+1'+r'$\\sigma$', color='red', linestyle='--' )\n",
    "\n",
    "ax.set_xlim(-1,1)\n",
    "ax.set_xlabel('cos('+r'$\\theta_{\\mu,p}$'+')')\n",
    "ax.set_ylabel('Count')\n",
    "ax.legend()"
   ]
  },
  {
   "cell_type": "code",
   "execution_count": null,
   "id": "394a6679-24fe-4629-a9db-32917d81f1cb",
   "metadata": {},
   "outputs": [],
   "source": []
  },
  {
   "cell_type": "markdown",
   "id": "1a9a3ddf-f6f8-4f5b-82a5-b5a753ea982f",
   "metadata": {},
   "source": [
    "### Truth tree plot"
   ]
  },
  {
   "cell_type": "code",
   "execution_count": null,
   "id": "2da496df-2f78-4638-a1ed-bff9d7623b84",
   "metadata": {},
   "outputs": [],
   "source": [
    "true_signal = truthTree[ ak.where(truthTree['SignalType']==1) ]"
   ]
  },
  {
   "cell_type": "code",
   "execution_count": null,
   "id": "2e192e14-3063-4fca-b0fc-41d552d8adb1",
   "metadata": {},
   "outputs": [],
   "source": [
    "fig, ax = plt.subplots()\n",
    "binsCosThMuP = np.linspace(-1.,1.,21)\n",
    "\n",
    "ax.hist( true_signal['TrueCosThMuP'], bins=binsCosThMuP, histtype='step' )\n",
    "\n",
    "ax.set_xlim(-1,1)\n",
    "ax.set_xlabel('True cos('+r'$\\theta_{\\mu,p}$'+')')\n",
    "ax.set_ylabel('Count')"
   ]
  },
  {
   "cell_type": "code",
   "execution_count": null,
   "id": "98f43f80-7aee-40d7-b9a7-2642ce80b6aa",
   "metadata": {},
   "outputs": [],
   "source": []
  },
  {
   "cell_type": "markdown",
   "id": "a83a42d4-a8a7-457b-947c-27eda14b5774",
   "metadata": {},
   "source": [
    "# A look at covariance related to CCQE events and nucleon FSI"
   ]
  },
  {
   "cell_type": "code",
   "execution_count": null,
   "id": "99f957c5-6584-4291-90e3-7b0246611eb0",
   "metadata": {},
   "outputs": [],
   "source": [
    "with ur.open('demo.root') as f:\n",
    "    # CCQE covariance\n",
    "    hCorr = f['covarTreeCCQE/corr_hist'].to_numpy()\n",
    "    # CV\n",
    "    hCV = f['covarTreeCCQE/cvHist'].to_numpy()\n",
    "    # 100 universes\n",
    "    hUniv = []\n",
    "    for i in range(100):\n",
    "        hUniv.append( f['covarTreeCCQE/hUniverse_'+str(i)].to_numpy() )\n",
    "\n",
    "binsDeltaPT = np.array( [0., 0.05, 0.10, 0.15, 0.20, 0.25, 0.35, 0.55, 0.85, 2.0] )\n",
    "centersDeltaPT = np.array( [(binsDeltaPT[i+1]+binsDeltaPT[i])/2. for i in range(len(binsDeltaPT)-1) ] )\n",
    "widthsDeltaPT = np.array( [(binsDeltaPT[i+1]-binsDeltaPT[i]) for i in range(len(binsDeltaPT)-1) ] )"
   ]
  },
  {
   "cell_type": "code",
   "execution_count": null,
   "id": "9b7a71d1-eb3e-4fac-8726-eedd0e31ab26",
   "metadata": {},
   "outputs": [],
   "source": []
  },
  {
   "cell_type": "code",
   "execution_count": null,
   "id": "c1977f1b-dd3c-4ca4-b82a-e3b671773708",
   "metadata": {},
   "outputs": [],
   "source": []
  },
  {
   "cell_type": "code",
   "execution_count": null,
   "id": "4f58bd7d-7dfa-4223-9256-74d398a1edf0",
   "metadata": {},
   "outputs": [],
   "source": [
    "fig, ax = plt.subplots()\n",
    "\n",
    "ax.hist( centersDeltaPT, bins=binsDeltaPT, weights=hCV[0]/(widthsDeltaPT/0.05), histtype='step', label='Nominal' )\n",
    "for i in range(5):\n",
    "    ax.hist( centersDeltaPT, bins=binsDeltaPT, weights=hUniv[i][0]/(widthsDeltaPT/0.05),\\\n",
    "             histtype='step', linestyle='--', label=str(i))\n",
    "\n",
    "ax.set_xlim(0,0.85)\n",
    "ax.set_ylabel('Count / 0.05 GeV')\n",
    "ax.set_xlabel(r'$\\delta p_T$'+' [GeV]')\n",
    "ax.legend()"
   ]
  },
  {
   "cell_type": "code",
   "execution_count": null,
   "id": "84c8d925-2d02-490e-a236-16f10f12d4e5",
   "metadata": {},
   "outputs": [],
   "source": []
  },
  {
   "cell_type": "code",
   "execution_count": null,
   "id": "ab9c04e8-7bec-458b-8273-424a84c0b4aa",
   "metadata": {},
   "outputs": [],
   "source": [
    "cov_binning_x = []\n",
    "cov_binning_y = []\n",
    "cov_binning_vals = []\n",
    "for i in range(len(binsDeltaPT)-1):\n",
    "    xval = centersDeltaPT[i]\n",
    "    for j in range(len(binsDeltaPT)-1):\n",
    "        yval = centersDeltaPT[j]\n",
    "        corrval = hCorr[0][i][j]\n",
    "        cov_binning_x.append(xval)\n",
    "        cov_binning_y.append(yval)\n",
    "        cov_binning_vals.append(corrval)\n",
    "cov_binning_x = np.array( cov_binning_x )\n",
    "cov_binning_y = np.array( cov_binning_y )\n",
    "cov_binning_vals = np.array( cov_binning_vals )\n",
    "\n",
    "fig, ax = plt.subplots()\n",
    "im = ax.hist2d( cov_binning_x, cov_binning_y, weights=cov_binning_vals, bins=[binsDeltaPT, binsDeltaPT] )\n",
    "\n",
    "fig.colorbar(im[3],ax=ax)\n",
    "\n",
    "ax.set_xlim(0,0.85)\n",
    "ax.set_ylim(0,0.85)\n",
    "ax.set_ylabel(r'$\\delta p_T$'+' [GeV]')\n",
    "ax.set_xlabel(r'$\\delta p_T$'+' [GeV]')\n",
    "\n",
    "ax.text(x=0.05,y=0.86,s='FSI N Knob')"
   ]
  },
  {
   "cell_type": "code",
   "execution_count": null,
   "id": "89fdf300-2c9c-4032-ac64-31b3992a46c0",
   "metadata": {},
   "outputs": [],
   "source": []
  }
 ],
 "metadata": {
  "kernelspec": {
   "display_name": "xsec_analysis",
   "language": "python",
   "name": "xsec_analysis"
  },
  "language_info": {
   "codemirror_mode": {
    "name": "ipython",
    "version": 3
   },
   "file_extension": ".py",
   "mimetype": "text/x-python",
   "name": "python",
   "nbconvert_exporter": "python",
   "pygments_lexer": "ipython3",
   "version": "3.10.18"
  }
 },
 "nbformat": 4,
 "nbformat_minor": 5
}

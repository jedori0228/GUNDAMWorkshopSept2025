{
 "cells": [
  {
   "cell_type": "code",
   "execution_count": 1,
   "id": "7444d202-2c34-49e1-b939-1749ae3077fb",
   "metadata": {},
   "outputs": [],
   "source": [
    "import uproot\n",
    "import pandas as pd\n",
    "import numpy as np\n",
    "import matplotlib.pyplot as plt\n",
    "import os\n",
    "from VariableInfoMap import defaultVarInfoMap"
   ]
  },
  {
   "cell_type": "markdown",
   "id": "5d9fb457-9e7f-499f-a057-dc258108c916",
   "metadata": {},
   "source": [
    "# USER from environment variable"
   ]
  },
  {
   "cell_type": "code",
   "execution_count": 2,
   "id": "dbed39e6-fde9-492d-a631-75bef71d4750",
   "metadata": {},
   "outputs": [
    {
     "name": "stdout",
     "output_type": "stream",
     "text": [
      "USER: jskim\n"
     ]
    }
   ],
   "source": [
    "USER = os.environ['USER']\n",
    "print('USER:', USER)"
   ]
  },
  {
   "cell_type": "markdown",
   "id": "eade87ae-d2d3-4a34-a633-4023faa09583",
   "metadata": {},
   "source": [
    "# Working directory"
   ]
  },
  {
   "cell_type": "code",
   "execution_count": 3,
   "id": "85d084ee-ce2c-44ba-aa03-2bc0211acca0",
   "metadata": {},
   "outputs": [
    {
     "name": "stdout",
     "output_type": "stream",
     "text": [
      "WD: /home/jskim/GUNDAMWorkshopSept2025\n"
     ]
    }
   ],
   "source": [
    "# Put the path of GUNDAMWorkshopSept2025 repo. Assuming you are at home directory\n",
    "WD = f'/home/{USER}/GUNDAMWorkshopSept2025'\n",
    "print('WD:', WD)"
   ]
  },
  {
   "cell_type": "markdown",
   "id": "ca75764d-3514-4a9e-ac5f-909d80ecc34e",
   "metadata": {},
   "source": [
    "# CAF TruthTree"
   ]
  },
  {
   "cell_type": "code",
   "execution_count": 6,
   "id": "0f7bc713-bf55-4c1d-b3c8-66c5bcf82ff0",
   "metadata": {},
   "outputs": [],
   "source": [
    "# 1) ICARUS NuMI 1muNp0pi\n",
    "CAFFileBaseDir = '/exp/icarus/data/users/jskim/Generators/GENIE/AR23_20i_00_000/ICARUS_NuMI/250627_BadRegionRejection/CAFTree'\n",
    "CAFFileName = 'MakeTree_NuMI_MC_Nu_Phase2_2023ANuMIReproc_CAFTypeCommonRemerge_ReNuSyst250403_WithTrackSplit_BNBFixedProb.root'\n",
    "CAFTreeName = 'AllSamples_FillTree/trueEvents'\n",
    "CAFFluxWeightName = 'FluxWeightWithBeamWidthCorrection'\n",
    "CAFSignalSelectionExpr = ''\n",
    "\n",
    "CAFPOTHistName = 'AllSamples_FillTree/POT'\n",
    "\n",
    "CAFBranches = [\n",
    "    CAFFluxWeightName,\n",
    "    'TrueMuonCos',\n",
    "    'TrueMuonProtonCos',\n",
    "    'TruedeltaPT',\n",
    "    'TruedeltaalphaT',\n",
    "]\n"
   ]
  },
  {
   "cell_type": "code",
   "execution_count": 7,
   "id": "05472ea5-2d04-430d-a8a9-002261147945",
   "metadata": {},
   "outputs": [],
   "source": [
    "with uproot.open(f'{CAFFileBaseDir}/{CAFFileName}') as f:\n",
    "    df_CAF = f[CAFTreeName].arrays(CAFBranches, library='pd')\n",
    "\n",
    "    if CAFSignalSelectionExpr!='':\n",
    "        df_CAF = df_CAF.query(CAFSignalSelectionExpr)\n",
    "    \n",
    "    if CAFPOTHistName!='':\n",
    "        MCPOT = f[CAFPOTHistName].to_numpy()[0][0]\n",
    "    else:\n",
    "        MCPOT = CAFMCPOT"
   ]
  },
  {
   "cell_type": "markdown",
   "id": "cd778969-a2ca-4d0e-98fb-b33052faaf94",
   "metadata": {},
   "source": [
    "# GUNDAM FitSample Normalization parameters"
   ]
  },
  {
   "cell_type": "code",
   "execution_count": 8,
   "id": "a497008b-3551-4b05-819e-5862dc58ff26",
   "metadata": {},
   "outputs": [],
   "source": [
    "# ICARUS NuMI 1muNp0pi has bad-region rejection\n",
    "# - FV above\n",
    "# - Field cage filuare in TPC EE: reject (-358.49<x<-210.215) and (y>115 or y<-161.86)\n",
    "# - Dangling cable in TPC WW: reject (210.215<x<358.49) and (z>0) and (y>70)\n",
    "NTarget = 4.6079073E+30"
   ]
  },
  {
   "cell_type": "code",
   "execution_count": 9,
   "id": "58f48a77-d55f-4959-af5d-4fa881f00860",
   "metadata": {},
   "outputs": [],
   "source": [
    "# Flux integral, (nu+numubar)/cm2\n",
    "FluxIntegral = 7.9752884e+11"
   ]
  },
  {
   "cell_type": "markdown",
   "id": "d95ff3f8-0df1-43a9-b797-2c3eb9cb007b",
   "metadata": {},
   "source": [
    "# Variable to draw"
   ]
  },
  {
   "cell_type": "code",
   "execution_count": 10,
   "id": "a83ff39c-17ee-459f-a6a2-78f15c370cda",
   "metadata": {},
   "outputs": [],
   "source": [
    "# VariableName = 'MuonCos'\n",
    "VariableName = 'MuonProtonCos'"
   ]
  },
  {
   "cell_type": "code",
   "execution_count": 11,
   "id": "e582faaf-b85f-47e6-a488-6aa3deaa685b",
   "metadata": {},
   "outputs": [],
   "source": [
    "CAFVariableName = f'True{VariableName}'"
   ]
  },
  {
   "cell_type": "markdown",
   "id": "e684d979-27d4-4484-a960-ab092ee9725f",
   "metadata": {},
   "source": [
    "# Access CalcXsec output first\n",
    "## It is useful because it has the binning info"
   ]
  },
  {
   "cell_type": "code",
   "execution_count": 16,
   "id": "ebc10aa6-e308-4690-9783-56ae2b271670",
   "metadata": {},
   "outputs": [],
   "source": [
    "GUNDAMCalcXsecBaseDir = '/exp/icarus/data/users/jskim/Generators/GENIE/AR23_20i_00_000/ICARUS_NuMI/250627_BadRegionRejection/GUNDAMAsimovExtraction'"
   ]
  },
  {
   "cell_type": "code",
   "execution_count": 17,
   "id": "f243dd2e-9ab1-4723-a86a-0f0e0440df66",
   "metadata": {},
   "outputs": [],
   "source": [
    "GUNDAMCalcXsecOutputFile = f'{GUNDAMCalcXsecBaseDir}/output_Asimov_IndvFit_BarlowLLH_{VariableName}.root'"
   ]
  },
  {
   "cell_type": "code",
   "execution_count": 18,
   "id": "6a9a5bc2-b042-44a5-ae63-7eb00c1f5e5e",
   "metadata": {},
   "outputs": [],
   "source": [
    "with uproot.open(GUNDAMCalcXsecOutputFile) as f:\n",
    "    # xsec binning\n",
    "    XsecBinning = f[f'calcXsec/plots/histograms/TrueSignal_True{VariableName}/True{VariableName}/MC_TH1D'].to_numpy()[1]\n",
    "    # xsec histogram\n",
    "    h_CalcXsec = f[f'calcXsec/histograms/TrueSignal_True{VariableName}_TH1D'].to_numpy()[0]"
   ]
  },
  {
   "cell_type": "code",
   "execution_count": 19,
   "id": "3e443ee4-d778-4c23-9312-485e3a27a0ce",
   "metadata": {},
   "outputs": [
    {
     "name": "stdout",
     "output_type": "stream",
     "text": [
      "XsecBinning: [-1.     -0.5806 -0.3628 -0.1926 -0.0424  0.0814  0.2018  0.3286  0.4878\n",
      "  0.7016  1.    ]\n"
     ]
    }
   ],
   "source": [
    "print('XsecBinning:', XsecBinning)"
   ]
  },
  {
   "cell_type": "code",
   "execution_count": 20,
   "id": "b5e9b59f-1b73-4384-b501-9f33f4b40c60",
   "metadata": {},
   "outputs": [
    {
     "name": "stdout",
     "output_type": "stream",
     "text": [
      "h_CalcXsec: [8.23010296e-39 1.32966893e-38 1.68842389e-38 2.05634933e-38\n",
      " 2.46705556e-38 2.69442795e-38 2.47961710e-38 1.98403377e-38\n",
      " 1.41840588e-38 1.05924538e-38]\n"
     ]
    }
   ],
   "source": [
    "print('h_CalcXsec:', h_CalcXsec)"
   ]
  },
  {
   "cell_type": "markdown",
   "id": "077925f1-67f1-46fd-b252-fe492c99fd3f",
   "metadata": {},
   "source": [
    "# Now draw a histgoram manually from the TruthTree"
   ]
  },
  {
   "cell_type": "code",
   "execution_count": 21,
   "id": "5724e4ae-0e69-43f4-9e8d-2f2d5c7e6bcf",
   "metadata": {},
   "outputs": [],
   "source": [
    "h_TruthTree = np.histogram(\n",
    "    df_CAF[CAFVariableName],\n",
    "    bins=XsecBinning,\n",
    "    weights=df_CAF[CAFFluxWeightName]\n",
    ")[0]"
   ]
  },
  {
   "cell_type": "code",
   "execution_count": 22,
   "id": "6b6ae0df-d861-4991-b785-acd25915de94",
   "metadata": {},
   "outputs": [
    {
     "name": "stdout",
     "output_type": "stream",
     "text": [
      "h_TruthTree: [12684.80586378 10642.69281859 10560.66278736 11350.55131359\n",
      " 11224.05292325 11921.83734876 11554.57583673 11607.59517186\n",
      " 11144.44269709 11615.70381031]\n"
     ]
    }
   ],
   "source": [
    "print('h_TruthTree:', h_TruthTree)"
   ]
  },
  {
   "cell_type": "markdown",
   "id": "9e6dbaf8-a53a-405a-805f-3908213a3923",
   "metadata": {},
   "source": [
    "## Bin-width"
   ]
  },
  {
   "cell_type": "code",
   "execution_count": 23,
   "id": "84300565-b0db-49a5-8f74-6bdbc20ba1df",
   "metadata": {},
   "outputs": [
    {
     "name": "stdout",
     "output_type": "stream",
     "text": [
      "XsecBinWidth: [0.4194 0.2178 0.1702 0.1502 0.1238 0.1204 0.1268 0.1592 0.2138 0.2984]\n"
     ]
    }
   ],
   "source": [
    "XsecBinWidth = np.diff(XsecBinning)\n",
    "print('XsecBinWidth:', XsecBinWidth)"
   ]
  },
  {
   "cell_type": "markdown",
   "id": "46175c13-7761-4983-b54e-c1116cc25c13",
   "metadata": {},
   "source": [
    "# Bin center"
   ]
  },
  {
   "cell_type": "code",
   "execution_count": 24,
   "id": "e65bf75f-beb3-41de-bdad-0d64c6c1cfd3",
   "metadata": {},
   "outputs": [
    {
     "name": "stdout",
     "output_type": "stream",
     "text": [
      "XsecBinCenter: [np.float64(-0.7903), np.float64(-0.4717), np.float64(-0.2777), np.float64(-0.1175), np.float64(0.0195), np.float64(0.1416), np.float64(0.2652), np.float64(0.4082), np.float64(0.5947), np.float64(0.8508)]\n"
     ]
    }
   ],
   "source": [
    "XsecBinCenter = [\n",
    "    (XsecBinning[i]+XsecBinning[i+1])/2.\n",
    "    for i in range(len(XsecBinning)-1)\n",
    "]\n",
    "print('XsecBinCenter:', XsecBinCenter)"
   ]
  },
  {
   "cell_type": "markdown",
   "id": "86116b7d-5cb6-464d-8720-3459d4c565a2",
   "metadata": {},
   "source": [
    "# Draw"
   ]
  },
  {
   "cell_type": "code",
   "execution_count": 25,
   "id": "1720d657-9a07-4d5e-b379-b524d71c708b",
   "metadata": {},
   "outputs": [
    {
     "data": {
      "image/png": "[encoded data removed]",
      "text/plain": [
       "<Figure size 600x600 with 1 Axes>"
      ]
     },
     "metadata": {},
     "output_type": "display_data"
    }
   ],
   "source": [
    "fig, ax = plt.subplots(figsize=(6,6))\n",
    "\n",
    "ax.hist(\n",
    "    XsecBinning[:-1],\n",
    "    bins=XsecBinning,\n",
    "    weights=h_TruthTree/FluxIntegral/NTarget/XsecBinWidth,\n",
    "    label=r'TruthTree histogram divided by bin-width, flux, and $N_{\\text{Target}}$',\n",
    "    # histtype='step',\n",
    ")\n",
    "\n",
    "ax.errorbar(\n",
    "    XsecBinCenter, \n",
    "    h_CalcXsec,\n",
    "    xerr=XsecBinWidth/2., \n",
    "    fmt='o', \n",
    "    capsize=5,\n",
    "    label='GUNDAM Asimov extraction',\n",
    ")\n",
    "\n",
    "y_max = np.max(h_CalcXsec)\n",
    "\n",
    "ax.set_ylim(0., 1.3*y_max)\n",
    "\n",
    "ax.set_xlabel(VariableName)\n",
    "ax.set_ylabel('Differitnal cross-section')\n",
    "\n",
    "ax.set_xlim(XsecBinning[0], XsecBinning[-1])\n",
    "\n",
    "ax.legend(loc='upper left')\n",
    "\n",
    "fig.savefig(f'{WD}/plot.pdf', bbox_inches='tight')"
   ]
  }
 ],
 "metadata": {
  "kernelspec": {
   "display_name": "myenv",
   "language": "python",
   "name": "myenv"
  },
  "language_info": {
   "codemirror_mode": {
    "name": "ipython",
    "version": 3
   },
   "file_extension": ".py",
   "mimetype": "text/x-python",
   "name": "python",
   "nbconvert_exporter": "python",
   "pygments_lexer": "ipython3",
   "version": "3.10.18"
  }
 },
 "nbformat": 4,
 "nbformat_minor": 5
}

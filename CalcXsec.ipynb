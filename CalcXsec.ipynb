{
 "cells": [
  {
   "cell_type": "code",
   "execution_count": 1,
   "metadata": {
    "editable": true,
    "slideshow": {
     "slide_type": ""
    },
    "tags": []
   },
   "outputs": [],
   "source": [
    "import uproot\n",
    "import pandas as pd\n",
    "import numpy as np\n",
    "import matplotlib.pyplot as plt\n",
    "import os\n",
    "import glob\n",
    "from VariableInfoMap import defaultVarInfoMap"
   ]
  },
  {
   "cell_type": "markdown",
   "metadata": {},
   "source": [
    "# USER from environment variable"
   ]
  },
  {
   "cell_type": "code",
   "execution_count": 2,
   "metadata": {
    "editable": true,
    "slideshow": {
     "slide_type": ""
    },
    "tags": []
   },
   "outputs": [
    {
     "name": "stdout",
     "output_type": "stream",
     "text": [
      "USER: jskim\n"
     ]
    }
   ],
   "source": [
    "USER = os.environ['USER']\n",
    "print('USER:', USER)"
   ]
  },
  {
   "cell_type": "markdown",
   "metadata": {},
   "source": [
    "# Working directory"
   ]
  },
  {
   "cell_type": "code",
   "execution_count": 3,
   "metadata": {
    "editable": true,
    "slideshow": {
     "slide_type": ""
    },
    "tags": []
   },
   "outputs": [
    {
     "name": "stdout",
     "output_type": "stream",
     "text": [
      "WD: /home/jskim/GUNDAMWorkshopSept2025\n"
     ]
    }
   ],
   "source": [
    "# Put the path of GUNDAMWorkshopSept2025 repo. Assuming you are at home directory\n",
    "WD = f'/home/{USER}/GUNDAMWorkshopSept2025'\n",
    "print('WD:', WD)"
   ]
  },
  {
   "cell_type": "markdown",
   "metadata": {},
   "source": [
    "# Plot directory"
   ]
  },
  {
   "cell_type": "code",
   "execution_count": 4,
   "metadata": {},
   "outputs": [
    {
     "name": "stdout",
     "output_type": "stream",
     "text": [
      "PlotBaseDir: /home/jskim/GUNDAMWorkshopSept2025/plots\n"
     ]
    }
   ],
   "source": [
    "PlotBaseDir = f'{WD}/plots'\n",
    "os.system(f'mkdir -p {PlotBaseDir}')\n",
    "print('PlotBaseDir:',PlotBaseDir)"
   ]
  },
  {
   "cell_type": "markdown",
   "metadata": {},
   "source": [
    "# NUISANCE Tree Input base directory"
   ]
  },
  {
   "cell_type": "code",
   "execution_count": 5,
   "metadata": {
    "editable": true,
    "slideshow": {
     "slide_type": ""
    },
    "tags": []
   },
   "outputs": [],
   "source": [
    "NuisBaseDir = '/exp/icarus/data/users/jskim/Generators'"
   ]
  },
  {
   "cell_type": "code",
   "execution_count": 6,
   "metadata": {
    "editable": true,
    "slideshow": {
     "slide_type": ""
    },
    "tags": []
   },
   "outputs": [],
   "source": [
    "FluxType = 'ICARUS'\n",
    "HornCur= 'fhc'\n",
    "TargetName = 'Ar'"
   ]
  },
  {
   "cell_type": "markdown",
   "metadata": {},
   "source": [
    "# CAFMode to NUISANCEMode mapping"
   ]
  },
  {
   "cell_type": "code",
   "execution_count": 7,
   "metadata": {},
   "outputs": [],
   "source": [
    "NuisanceModeMap = dict()\n",
    "NuisanceModeMap['QE'] = {'CAFMode': 0, 'Modes': [1, 51, 52], 'Latex': 'QE'}\n",
    "NuisanceModeMap['MEC'] = {'CAFMode': 10, 'Modes': [2], 'Latex': 'MEC'}\n",
    "\n",
    "# Mode=10 in GiBBU seems like to be a RES mode..\n",
    "NuisanceModeMap['RES'] = {'CAFMode': 1, 'Modes': [17, 38, 39, 11, 12, 13, 22, 42, 43, 23, 44, 45, 21, 41, 10], 'Latex': 'RES'}\n",
    "NuisanceModeMap['COH'] = {'CAFMode': 3, 'Modes': [16, 36], 'Latex': 'COH'}\n",
    "NuisanceModeMap['DIS'] = {'CAFMode': 2, 'Modes': [26, 46], 'Latex': 'DIS'}"
   ]
  },
  {
   "cell_type": "code",
   "execution_count": 8,
   "metadata": {},
   "outputs": [],
   "source": [
    "NuTypes = [\n",
    "    'numu',\n",
    "    'numubar',\n",
    "]\n",
    "\n",
    "NuAliases = [\n",
    "    r'\\nu_{\\mu}',\n",
    "    r'\\bar{\\nu}_{\\mu}',\n",
    "]\n"
   ]
  },
  {
   "cell_type": "code",
   "execution_count": 9,
   "metadata": {},
   "outputs": [],
   "source": [
    "GeneratorName = 'GENIE'\n",
    "GeneratorConfigName = 'AR23_20i_00_000'\n",
    "GeneratorJobName = '250611_GENIE_1MEvents'\n",
    "# GeneratorJobName = '250725_GENIE_LQCDRWAdded_1MEvents'\n",
    "GeneratorFluxBinWidthDivided = True\n",
    "\n",
    "# GeneratorName = 'NuWro'\n",
    "# GeneratorConfigName = '21.09.2'\n",
    "# GeneratorJobName = '250616_NuWro_1MEvents'\n",
    "# GeneratorFluxBinWidthDivided = False\n",
    "\n",
    "# GeneratorName = 'GiBUU'\n",
    "# GeneratorConfigName = 'r2025_02'\n",
    "# # GeneratorJobName = '250617_GiBUU_Try0'\n",
    "# GeneratorJobName = '250728_GiBUU_MoreStatsFromEAF'\n",
    "# GeneratorFluxBinWidthDivided = True\n",
    "\n",
    "# GeneratorName = 'NEUT'\n",
    "# # GeneratorConfigName = '5.8.0'\n",
    "# # GeneratorJobName = '250625_NEUT_1M'\n",
    "# GeneratorConfigName = '6.0.3'\n",
    "# # GeneratorJobName = '250807_QE_rome'\n",
    "# # GeneratorJobName = '250807_QE_rmf'\n",
    "# # GeneratorJobName = '250807_QE_nieves'\n",
    "# GeneratorJobName = '250807_QE_ls'\n",
    "# GeneratorFluxBinWidthDivided = True"
   ]
  },
  {
   "cell_type": "code",
   "execution_count": 10,
   "metadata": {},
   "outputs": [
    {
     "data": {
      "text/plain": [
       "0"
      ]
     },
     "execution_count": 10,
     "metadata": {},
     "output_type": "execute_result"
    }
   ],
   "source": [
    "PlotDir = f'{PlotBaseDir}/{GeneratorName}/{GeneratorConfigName}/{GeneratorJobName}'\n",
    "os.system(f'mkdir -p {PlotDir}')"
   ]
  },
  {
   "cell_type": "markdown",
   "metadata": {},
   "source": [
    "# NUISANCE flat tree"
   ]
  },
  {
   "cell_type": "code",
   "execution_count": 11,
   "metadata": {},
   "outputs": [],
   "source": [
    "NuisTreeSFVarName = 'FinalWeight'\n",
    "\n",
    "# Nominal\n",
    "NuisTreeSFVarExpr = 'InputWeight * fScaleFactor'\n",
    "\n",
    "# If you want a reweighted distribution, use \"Weight\" instead of \"InputWeight\"\n",
    "# The reweight is configured when running nuisflat via nuisance card\n",
    "if GeneratorJobName=='250725_GENIE_LQCDRWAdded_1MEvents':\n",
    "    NuisTreeSFVarExpr = 'Weight * fScaleFactor'"
   ]
  },
  {
   "cell_type": "code",
   "execution_count": 12,
   "metadata": {},
   "outputs": [],
   "source": [
    "NuisBranches = [\n",
    "    'Mode',\n",
    "    'Nprotons',\n",
    "    'ICARUS_1muNp0pi_IsSignal',\n",
    "    'ICARUS_1muNp0pi_MuonCos',\n",
    "    'ICARUS_1muNp0pi_MuonProtonCos',\n",
    "    'ICARUS_1muNp0pi_deltaPT',\n",
    "    'ICARUS_1muNp0pi_deltaalphaT',\n",
    "    'Enu_true',\n",
    "    'InputWeight',\n",
    "    'RWWeight',\n",
    "    'Weight',\n",
    "    'fScaleFactor',\n",
    "    'MLep',\n",
    "    'ELep',\n",
    "]"
   ]
  },
  {
   "cell_type": "code",
   "execution_count": 13,
   "metadata": {},
   "outputs": [],
   "source": [
    "NuisTreeName = 'FlatTree_VARS'"
   ]
  },
  {
   "cell_type": "code",
   "execution_count": 14,
   "metadata": {},
   "outputs": [],
   "source": [
    "NuisFlatTreeBaseDir = f'{NuisBaseDir}/{GeneratorName}/{GeneratorConfigName}/{FluxType}/{GeneratorJobName}/Target_{TargetName}/' #/Nu_-14/output_gen_0.root'"
   ]
  },
  {
   "cell_type": "code",
   "execution_count": 15,
   "metadata": {},
   "outputs": [
    {
     "name": "stdout",
     "output_type": "stream",
     "text": [
      "numu\n",
      "/exp/icarus/data/users/jskim/Generators/GENIE/AR23_20i_00_000/ICARUS/250611_GENIE_1MEvents/Target_Ar//fhc_Nu14/output_GENIE_*.nuisflat.root\n",
      "10\n",
      "numubar\n",
      "/exp/icarus/data/users/jskim/Generators/GENIE/AR23_20i_00_000/ICARUS/250611_GENIE_1MEvents/Target_Ar//fhc_Nu-14/output_GENIE_*.nuisflat.root\n",
      "10\n"
     ]
    }
   ],
   "source": [
    "dfs_nuis = dict()\n",
    "uhs_input_flux = dict()\n",
    "dict_NFiles = dict()\n",
    "dict_FluxIntegral = dict()\n",
    "\n",
    "for NuType in NuTypes:\n",
    "\n",
    "    print(NuType)\n",
    "\n",
    "    NuPDG = 14 if NuType == 'numu' else -14\n",
    "\n",
    "    nuisflat_wc = f'{NuisFlatTreeBaseDir}/{HornCur}_Nu{NuPDG}/output_{GeneratorName}_*.nuisflat.root'\n",
    "    print(nuisflat_wc)\n",
    "    nuisflat_files = glob.glob(nuisflat_wc)\n",
    "\n",
    "    dfs_nuis[NuType] = None\n",
    "    dict_NFiles[NuType] = len(nuisflat_files)\n",
    "\n",
    "    print(dict_NFiles[NuType])\n",
    "\n",
    "    for nuisflat_file in nuisflat_files:\n",
    "\n",
    "        with uproot.open(nuisflat_file) as f:\n",
    "\n",
    "            # print('  :', nuisflat_file)\n",
    "\n",
    "            this_df = f[NuisTreeName].arrays(NuisBranches, library='pd')\n",
    "            this_input_flux = f['FlatTree_FLUX']\n",
    "\n",
    "            if dfs_nuis[NuType] is None:\n",
    "                dfs_nuis[NuType] = this_df\n",
    "\n",
    "                if GeneratorFluxBinWidthDivided:\n",
    "                    FluxBinning = this_input_flux.to_numpy()[1]\n",
    "                    FluxBinWidhts = np.diff(FluxBinning)\n",
    "                    FluxIntegral = np.sum( np.multiply(this_input_flux.to_numpy()[0], FluxBinWidhts) )\n",
    "                else:\n",
    "                    FluxIntegral = np.sum( this_input_flux.to_numpy()[0] )\n",
    "\n",
    "\n",
    "                # Let's make flux /cm@\n",
    "                if GeneratorName == 'GiBUU':\n",
    "                    # I gave GiBUU /cm2\n",
    "                    FluxIntegral *= 1\n",
    "                else:\n",
    "                    FluxIntegral *= 1E-4\n",
    "\n",
    "                dict_FluxIntegral[NuType] = FluxIntegral\n",
    "\n",
    "\n",
    "            else:\n",
    "                dfs_nuis[NuType] = pd.concat([dfs_nuis[NuType], this_df])\n",
    "\n",
    "            del this_df\n",
    "\n",
    "    # Weight\n",
    "    dfs_nuis[NuType] = dfs_nuis[NuType].eval(f'{NuisTreeSFVarName} = {NuisTreeSFVarExpr}')\n",
    "\n",
    "    # Special\n",
    "    dfs_nuis[NuType]['Enu_true'] = dfs_nuis[NuType]['Enu_true'] * 1E-3\n",
    "\n",
    "    dfs_nuis[NuType]['PLep'] = np.sqrt( dfs_nuis[NuType]['ELep']**2 - dfs_nuis[NuType]['MLep']**2 )\n",
    "    dfs_nuis[NuType]['PLep'] = dfs_nuis[NuType]['PLep'] * 1E-3\n",
    "\n",
    "    # Modes\n",
    "    conditions = []\n",
    "    values = []\n",
    "    for NuisanceModeName in NuisanceModeMap:\n",
    "        ThisCAFMode = NuisanceModeMap[NuisanceModeName]['CAFMode']\n",
    "        ThisModeArray = NuisanceModeMap[NuisanceModeName]['Modes']\n",
    "        \n",
    "        conditions.append(np.abs(dfs_nuis[NuType]['Mode']).isin(ThisModeArray))\n",
    "        values.append(ThisCAFMode)\n",
    "    dfs_nuis[NuType]['CAFMode'] = np.select(conditions, values, default=-1)\n",
    "\n"
   ]
  },
  {
   "cell_type": "code",
   "execution_count": 16,
   "metadata": {
    "editable": true,
    "slideshow": {
     "slide_type": ""
    },
    "tags": []
   },
   "outputs": [],
   "source": [
    "NuisTree_SignalSelection_Expr = '(ICARUS_1muNp0pi_IsSignal==True)'"
   ]
  },
  {
   "cell_type": "code",
   "execution_count": 17,
   "metadata": {},
   "outputs": [],
   "source": [
    "XSecSFMag = -38\n",
    "XSecSF = 10**-38"
   ]
  },
  {
   "cell_type": "markdown",
   "metadata": {},
   "source": [
    "# CAF TruthTree"
   ]
  },
  {
   "cell_type": "code",
   "execution_count": 18,
   "metadata": {},
   "outputs": [],
   "source": [
    "# Typical ICARUS FV\n",
    "# - 25cm margin in x and y\n",
    "# - 30 (50)cm upstream (downstream) in z\n",
    "#NTarget = 4.714056E+30\n",
    "\n",
    "# ICARUS NuMI 1muNp0pi has bad-region rejection\n",
    "# - FV above\n",
    "# - Field cage filuare in TPC EE: reject (-358.49<x<-210.215) and (y>115 or y<-161.86)\n",
    "# - Dangling cable in TPC WW: reject (210.215<x<358.49) and (z>0) and (y>70)\n",
    "NTarget = 4.6079073E+30"
   ]
  },
  {
   "cell_type": "code",
   "execution_count": 19,
   "metadata": {},
   "outputs": [],
   "source": [
    "CAFFileBaseDir = '/exp/icarus/data/users/jskim/Generators/GENIE/AR23_20i_00_000/ICARUS/250627_BadRegionRejection/CAFTree'\n",
    "CAFFileName = 'MakeTree_NuMI_MC_Nu_Phase2_2023ANuMIReproc_CAFTypeCommonRemerge_ReNuSyst250403_WithTrackSplit_BNBFixedProb.root'\n",
    "CAFTreeName = 'AllSamples_FillTree/trueEvents'\n",
    "CAFFluxWeightName = 'FluxWeightWithBeamWidthCorrection'\n",
    "\n",
    "CAFPOTHistName = 'AllSamples_FillTree/POT'\n",
    "\n",
    "CAFBranches = [\n",
    "    CAFFluxWeightName,\n",
    "    'TruePDG',\n",
    "    'TrueMode',\n",
    "    'TrueMuonP',\n",
    "    'TrueMuonCos',\n",
    "    'TrueMuonProtonCos',\n",
    "    'TruedeltaPT',\n",
    "    'TruedeltaalphaT',\n",
    "    'TrueE',\n",
    "    'TrueNProton',\n",
    "]"
   ]
  },
  {
   "cell_type": "code",
   "execution_count": 20,
   "metadata": {},
   "outputs": [],
   "source": [
    "with uproot.open(f'{CAFFileBaseDir}/{CAFFileName}') as f:\n",
    "    df_CAF = f[CAFTreeName].arrays(CAFBranches, library='pd')\n",
    "\n",
    "    MCPOT = f[CAFPOTHistName].to_numpy()[0][0]\n",
    "    # # TEST\n",
    "    # df_CAF = df_CAF[ df_CAF['TrueNProton']==2 ]"
   ]
  },
  {
   "cell_type": "code",
   "execution_count": 21,
   "metadata": {},
   "outputs": [
    {
     "name": "stdout",
     "output_type": "stream",
     "text": [
      "MCPOT: 1.0900766313859168e+21\n"
     ]
    }
   ],
   "source": [
    "print('MCPOT:', MCPOT)"
   ]
  },
  {
   "cell_type": "markdown",
   "metadata": {},
   "source": [
    "# Now, properly normalize NUISANCE tree to get theory cross-section"
   ]
  },
  {
   "cell_type": "markdown",
   "metadata": {},
   "source": [
    "## Compared to CAF Tree"
   ]
  },
  {
   "cell_type": "code",
   "execution_count": 22,
   "metadata": {},
   "outputs": [
    {
     "name": "stdout",
     "output_type": "stream",
     "text": [
      "numu 2821805\n",
      "numubar 994492\n"
     ]
    },
    {
     "data": {
      "image/png": "[encoded data removed]",
      "text/plain": [
       "<Figure size 600x600 with 1 Axes>"
      ]
     },
     "metadata": {},
     "output_type": "display_data"
    },
    {
     "data": {
      "image/png": "[encoded data removed]",
      "text/plain": [
       "<Figure size 600x600 with 1 Axes>"
      ]
     },
     "metadata": {},
     "output_type": "display_data"
    }
   ],
   "source": [
    "SignalAreas_nuis = dict()\n",
    "SignalAreas_CAF = dict()\n",
    "\n",
    "ThisNuisVariableName = 'Enu_true'\n",
    "ThisCAFVariableName = 'TrueE'\n",
    "ThisBinning = np.linspace(0., 6., 61)\n",
    "# ThisBinning = Binning_G4Update\n",
    "ThisBinning = ThisBinning[ThisBinning<5.0]\n",
    "ThisXaxisTitle = r'$E_{\\nu} (GeV)$'\n",
    "\n",
    "for i_NuType, NuType in enumerate(NuTypes):\n",
    "\n",
    "    # Nuisance Tree\n",
    "\n",
    "    df_nuis_Sel = dfs_nuis[NuType].query(NuisTree_SignalSelection_Expr)\n",
    "\n",
    "    print(NuType, len(df_nuis_Sel))\n",
    "\n",
    "    h_nuis = np.histogram(\n",
    "        df_nuis_Sel[ThisNuisVariableName],\n",
    "        bins=ThisBinning,\n",
    "        weights=df_nuis_Sel[NuisTreeSFVarName],\n",
    "    )[0]\n",
    "    area_nuis = np.sum(h_nuis)\n",
    "\n",
    "    SignalAreas_nuis[NuType] = area_nuis\n",
    "\n",
    "    del df_nuis_Sel\n",
    "\n",
    "    # CAFTree\n",
    "\n",
    "    NuPDG = 14 if NuType=='numu' else -14\n",
    "    df_CAF_Sel = df_CAF.query('(TruePDG==%d)'%(NuPDG))\n",
    "\n",
    "    h_CAF = np.histogram(\n",
    "        df_CAF_Sel[ThisCAFVariableName],\n",
    "        bins=ThisBinning,\n",
    "        weights=df_CAF_Sel[CAFFluxWeightName],\n",
    "    )[0]\n",
    "    area_CAF = np.sum(df_CAF_Sel[CAFFluxWeightName])\n",
    "\n",
    "    SignalAreas_CAF[NuType] = area_CAF\n",
    "\n",
    "    del df_CAF_Sel\n",
    "\n",
    "    # plot\n",
    "\n",
    "    fig, ax = plt.subplots(figsize=(6,6))\n",
    "\n",
    "    ax.hist(\n",
    "        ThisBinning[:-1], \n",
    "        bins=ThisBinning,\n",
    "        weights=h_nuis/area_nuis,\n",
    "        histtype='step',\n",
    "        label='Nuisance tree',\n",
    "    )\n",
    "\n",
    "    ax.hist(\n",
    "        ThisBinning[:-1], \n",
    "        bins=ThisBinning,\n",
    "        weights=h_CAF/area_CAF,\n",
    "        histtype='step',\n",
    "        label='CAF TruthTree',\n",
    "    )\n",
    "\n",
    "    ax.set_xlim(left=ThisBinning[0], right=ThisBinning[-1])\n",
    "    ax.set_xlabel(ThisXaxisTitle)\n",
    "\n",
    "    ax.legend(fontsize=16)\n",
    "\n",
    "    fig.savefig(f'{PlotDir}/Signal_NuE_{NuType}.pdf', bbox_inches='tight')\n"
   ]
  },
  {
   "cell_type": "code",
   "execution_count": 23,
   "metadata": {},
   "outputs": [],
   "source": [
    "VariableInfos = []\n",
    "\n",
    "# (VariableName, Branch name in nuisflat, Branch name in CAF TruthTree, xMin, xMax, dx) \n",
    "\n",
    "VariableInfos.append([\n",
    "    'TrueMuonCos',\n",
    "    'ICARUS_1muNp0pi_MuonCos',\n",
    "    'TrueMuonCos',\n",
    "    -1, 1, 0.05\n",
    "])\n",
    "VariableInfos.append([\n",
    "    'TrueMuonProtonCos',\n",
    "    'ICARUS_1muNp0pi_MuonProtonCos',\n",
    "    'TrueMuonProtonCos',\n",
    "    -1, 1, 0.1\n",
    "])\n",
    "VariableInfos.append([\n",
    "    'TruedeltaPT',\n",
    "    'ICARUS_1muNp0pi_deltaPT',\n",
    "    'TruedeltaPT',\n",
    "    0, 1.2, 0.02 if GeneratorName=='GiBUU' else 0.01\n",
    "])\n",
    "VariableInfos.append([\n",
    "    'TruedeltaalphaT',\n",
    "    'ICARUS_1muNp0pi_deltaalphaT',\n",
    "    'TruedeltaalphaT',\n",
    "    0, 180, 6 if GeneratorName=='GiBUU' else 5\n",
    "])"
   ]
  },
  {
   "cell_type": "code",
   "execution_count": 24,
   "metadata": {},
   "outputs": [],
   "source": [
    "PhaseSpaceCutInfos = [\n",
    "    ['AllSignal', 'All signal events', '', ''],\n",
    "    ['MuonPLT0p8', r'$p_{\\mu}<0.8$', 'TrueMuonP<0.8', 'PLep<0.8'],\n",
    "]"
   ]
  },
  {
   "cell_type": "code",
   "execution_count": 25,
   "metadata": {},
   "outputs": [
    {
     "name": "stdout",
     "output_type": "stream",
     "text": [
      "- VariableName: TrueMuonCos\n"
     ]
    },
    {
     "ename": "NameError",
     "evalue": "name 'GUNDAMCalcXsecOutputPath' is not defined",
     "output_type": "error",
     "traceback": [
      "\u001b[0;31m---------------------------------------------------------------------------\u001b[0m",
      "\u001b[0;31mNameError\u001b[0m                                 Traceback (most recent call last)",
      "Cell \u001b[0;32mIn[25], line 25\u001b[0m\n\u001b[1;32m     22\u001b[0m \u001b[38;5;28;01mif\u001b[39;00m VariableName\u001b[38;5;241m==\u001b[39m\u001b[38;5;124m'\u001b[39m\u001b[38;5;124mTrueMuonProtonCos\u001b[39m\u001b[38;5;124m'\u001b[39m:\n\u001b[1;32m     23\u001b[0m     XsecLatex \u001b[38;5;241m=\u001b[39m \u001b[38;5;124mr\u001b[39m\u001b[38;5;124m'\u001b[39m\u001b[38;5;124m$\u001b[39m\u001b[38;5;124m\\\u001b[39m\u001b[38;5;124mfrac\u001b[39m\u001b[38;5;124m{\u001b[39m\u001b[38;5;124md \u001b[39m\u001b[38;5;124m\\\u001b[39m\u001b[38;5;124msigma}\u001b[39m\u001b[38;5;124m{\u001b[39m\u001b[38;5;124md \u001b[39m\u001b[38;5;124m\\\u001b[39m\u001b[38;5;124mcos\u001b[39m\u001b[38;5;124m{\u001b[39m\u001b[38;5;124m\\\u001b[39m\u001b[38;5;124mtheta_\u001b[39m\u001b[38;5;124m{\u001b[39m\u001b[38;5;124m\\\u001b[39m\u001b[38;5;124mmu,p}}}$ $\u001b[39m\u001b[38;5;124m\\\u001b[39m\u001b[38;5;124mfrac\u001b[39m\u001b[38;5;124m{\u001b[39m\u001b[38;5;124mcm^\u001b[39m\u001b[38;5;132;01m{2}\u001b[39;00m\u001b[38;5;124m}\u001b[39m\u001b[38;5;132;01m{Ar}\u001b[39;00m\u001b[38;5;124m$\u001b[39m\u001b[38;5;124m'\u001b[39m\n\u001b[0;32m---> 25\u001b[0m \u001b[43mGUNDAMCalcXsecOutputPath\u001b[49m\n\u001b[1;32m     27\u001b[0m \u001b[38;5;28;01mfor\u001b[39;00m PhaseSpaceCutInfo \u001b[38;5;129;01min\u001b[39;00m PhaseSpaceCutInfos:\n\u001b[1;32m     29\u001b[0m     PhaseSpaceCutName \u001b[38;5;241m=\u001b[39m PhaseSpaceCutInfo[\u001b[38;5;241m0\u001b[39m]\n",
      "\u001b[0;31mNameError\u001b[0m: name 'GUNDAMCalcXsecOutputPath' is not defined"
     ]
    }
   ],
   "source": [
    "for VariableInfo in VariableInfos:\n",
    "\n",
    "    VariableName = VariableInfo[0]\n",
    "    NuisVariableName = VariableInfo[1]\n",
    "    CAFVariableName = VariableInfo[2]\n",
    "    FineBin_xMin = VariableInfo[3]\n",
    "    FineBin_xMax = VariableInfo[4]\n",
    "    FineBin_dx = VariableInfo[5]\n",
    "\n",
    "    VariableInfo = defaultVarInfoMap[VariableName]\n",
    "    VariableLatex = VariableInfo.Latex\n",
    "\n",
    "    print(f'- VariableName: {VariableName}')\n",
    "\n",
    "    XsecLatex = ''\n",
    "    if VariableName=='TruedeltaPT':\n",
    "        XsecLatex = r'$\\frac{d \\sigma}{d \\delta p_{T}}$ $\\frac{cm^{2}}{(GeV/c) Ar}$'\n",
    "    if VariableName=='TruedeltaalphaT':\n",
    "        XsecLatex = r'$\\frac{d \\sigma}{d \\delta \\alpha_{T}}$ $\\frac{cm^{2}}{(degree) Ar}$'\n",
    "    if VariableName=='TrueMuonCos':\n",
    "        XsecLatex = r'$\\frac{d \\sigma}{d \\cos{\\theta_{\\mu}}}$ $\\frac{cm^{2}}{Ar}$'\n",
    "    if VariableName=='TrueMuonProtonCos':\n",
    "        XsecLatex = r'$\\frac{d \\sigma}{d \\cos{\\theta_{\\mu,p}}}$ $\\frac{cm^{2}}{Ar}$'\n",
    "\n",
    "    GUNDAMCalcXsecOutputPath\n",
    "    \n",
    "    for PhaseSpaceCutInfo in PhaseSpaceCutInfos:\n",
    "\n",
    "        PhaseSpaceCutName = PhaseSpaceCutInfo[0]\n",
    "        PhaseSpaceCutLatex = PhaseSpaceCutInfo[1]\n",
    "        PhaseSpaceCutExpr_CAF = PhaseSpaceCutInfo[2]\n",
    "        PhaseSpaceCutExpr_Nuis = PhaseSpaceCutInfo[3]\n",
    "\n",
    "        ApplyPhaseSpaceCut = (PhaseSpaceCutName!='AllSignal')\n",
    "\n",
    "        print(f'  - PhaseSpaceCutName: {PhaseSpaceCutName}')\n",
    "\n",
    "        for UseFineBinning in [True, False]:\n",
    "            \n",
    "            Binnings = np.linspace(FineBin_xMin, FineBin_xMax, int((FineBin_xMax-FineBin_xMin)/FineBin_dx)+1) \\\n",
    "                if UseFineBinning  else VariableInfo.GetBinArray()\n",
    "            BinWidhts = np.diff(Binnings)\n",
    "            BinCenters = [(Binnings[i]+Binnings[i+1])/2. for i in range(len(Binnings)-1)]\n",
    "            BinErrors = [(Binnings[i+1]-Binnings[i])/2. for i in range(0, len(Binnings)-1)]\n",
    "\n",
    "            BinningString = 'FineBin' if UseFineBinning else 'AnaBin'\n",
    "\n",
    "            print(f'     - UseFineBinning: {UseFineBinning}')\n",
    "\n",
    "            #-------------------------------------------\n",
    "            # numu vs numubar\n",
    "\n",
    "            fig_diffxsec, ax_diffxsec = plt.subplots(figsize=(6,6))\n",
    "\n",
    "            hs_diffxsec = dict()\n",
    "            hs_diffxsec_mode = dict()\n",
    "            hs_CAFxsec = dict()\n",
    "\n",
    "            y_max = -1\n",
    "            for i_NuType, NuType in enumerate(NuTypes):\n",
    "                \n",
    "                NuPDG = 14 if NuType=='numu' else -14\n",
    "                FluxIntegral = dict_FluxIntegral[NuType]\n",
    "\n",
    "                NFiles = dict_NFiles[NuType]\n",
    "                NEvent = len(dfs_nuis[NuType])\n",
    "\n",
    "                df_nuis_Sel = dfs_nuis[NuType].query(NuisTree_SignalSelection_Expr)\n",
    "                df_CAF_Sel = df_CAF.query('(TruePDG==%d)'%(NuPDG))\n",
    "\n",
    "                if ApplyPhaseSpaceCut:\n",
    "                    df_nuis_Sel = df_nuis_Sel.query(PhaseSpaceCutExpr_Nuis)\n",
    "                    df_CAF_Sel = df_CAF_Sel.query(PhaseSpaceCutExpr_CAF)\n",
    "\n",
    "                h_diffxsec = np.histogram(\n",
    "                    df_nuis_Sel[NuisVariableName],\n",
    "                    bins=Binnings,\n",
    "                    weights=df_nuis_Sel[NuisTreeSFVarName],\n",
    "                )[0]\n",
    "\n",
    "                hs_diffxsec[NuType] = h_diffxsec/BinWidhts/NFiles * 40    \n",
    "\n",
    "                ax_diffxsec.errorbar(\n",
    "                    BinCenters, \n",
    "                    hs_diffxsec[NuType],\n",
    "                    xerr=BinErrors, \n",
    "                    fmt='o', \n",
    "                    capsize=5,\n",
    "                    label=r'$%s$, Nuisance'%(NuAliases[i_NuType]),\n",
    "                )\n",
    "\n",
    "                y_max = max(y_max, np.max(hs_diffxsec[NuType]))\n",
    "\n",
    "                # per mode\n",
    "                hs_diffxsec_mode[NuType] = dict()\n",
    "                for NuisanceModeName in NuisanceModeMap:\n",
    "                    ThisCAFMode = NuisanceModeMap[NuisanceModeName]['CAFMode']\n",
    "\n",
    "                    df_nuis_Sel_mode = df_nuis_Sel.query(f'CAFMode=={ThisCAFMode}')\n",
    "                    h_diffxsec_mode = np.histogram(\n",
    "                        df_nuis_Sel_mode[NuisVariableName],\n",
    "                        bins=Binnings,\n",
    "                        weights=df_nuis_Sel_mode[NuisTreeSFVarName],\n",
    "                    )[0]\n",
    "                    hs_diffxsec_mode[NuType][ThisCAFMode] = h_diffxsec_mode/BinWidhts/NFiles * 40\n",
    "\n",
    "                # CAFTree\n",
    "                hs_CAFxsec[NuType] = np.histogram(\n",
    "                    df_CAF_Sel[CAFVariableName],\n",
    "                    bins=Binnings,\n",
    "                    weights=df_CAF_Sel[CAFFluxWeightName] / NTarget / np.sum(FluxIntegral * MCPOT),\n",
    "                )[0]\n",
    "\n",
    "                ax_diffxsec.hist(\n",
    "                    Binnings[:-1], \n",
    "                    bins=Binnings,\n",
    "                    weights=hs_CAFxsec[NuType]/BinWidhts,\n",
    "                    histtype='step',\n",
    "                    label=r'$%s$, CAF'%(NuAliases[i_NuType]),\n",
    "                )\n",
    "\n",
    "                y_max = max(y_max, np.max(hs_CAFxsec[NuType]/BinWidhts))\n",
    "\n",
    "\n",
    "            ax_diffxsec.set_xlim(Binnings[0], Binnings[-1])\n",
    "            ax_diffxsec.set_xlabel(VariableInfo.GetXaxisTitle())\n",
    "            ax_diffxsec.set_ylim(0, 1.5*y_max)\n",
    "            ax_diffxsec.set_ylabel(XsecLatex)\n",
    "\n",
    "            ax_diffxsec.legend(loc='upper left', fontsize=15, ncols=2)\n",
    "\n",
    "            _xrange = ax_diffxsec.get_xlim()\n",
    "            _use_x = _xrange[0] + 0.05*(_xrange[1] - _xrange[0])\n",
    "            _yrange = ax_diffxsec.get_ylim()\n",
    "            _use_y = _yrange[0] + 0.75*(_yrange[1] - _yrange[0])\n",
    "            ax_diffxsec.text(_use_x, _use_y, PhaseSpaceCutLatex, fontsize=14)\n",
    "\n",
    "            OutName = f'{PlotDir}/diffxsec_{PhaseSpaceCutName}_bothnu_{VariableName}_{BinningString}.pdf'\n",
    "\n",
    "            fig_diffxsec.savefig(OutName, bbox_inches='tight')\n",
    "            plt.close()\n",
    "\n",
    "            #-------------------------------------------\n",
    "            # numu+numubar flux-averaged\n",
    "\n",
    "            fig_diffxsec, ax_diffxsec = plt.subplots(figsize=(6,6))\n",
    "\n",
    "            h_diffxsec_sum = np.zeros(len(Binnings)-1)\n",
    "            h_CAFxsec_sum = np.zeros(len(Binnings)-1)\n",
    "\n",
    "            FluxSum = 0.\n",
    "\n",
    "            # hs_diffxsec_mode\n",
    "\n",
    "            for i_NuType, NuType in enumerate(NuTypes):\n",
    "                \n",
    "                FluxIntegral = dict_FluxIntegral[NuType]\n",
    "                FluxSum += FluxIntegral\n",
    "\n",
    "                h_diffxsec_sum += hs_diffxsec[NuType] * FluxIntegral\n",
    "                h_CAFxsec_sum += hs_CAFxsec[NuType] * FluxIntegral\n",
    "\n",
    "\n",
    "            h_diffxsec_sum /= FluxSum\n",
    "            h_CAFxsec_sum /= FluxSum\n",
    "\n",
    "            ax_diffxsec.errorbar(\n",
    "                BinCenters, \n",
    "                h_diffxsec_sum,\n",
    "                xerr=BinErrors, \n",
    "                fmt='o', \n",
    "                capsize=5,\n",
    "                label='Nuisance'\n",
    "            )\n",
    "\n",
    "            ax_diffxsec.hist(\n",
    "                Binnings[:-1], \n",
    "                bins=Binnings,\n",
    "                weights=h_CAFxsec_sum/BinWidhts,\n",
    "                histtype='step',\n",
    "                label='CAF',\n",
    "            )\n",
    "\n",
    "            ax_diffxsec.set_xlim(Binnings[0], Binnings[-1])\n",
    "            ax_diffxsec.set_xlabel(VariableInfo.GetXaxisTitle())\n",
    "            ax_diffxsec.set_ylim(0, 1.2*y_max)\n",
    "            ax_diffxsec.set_ylabel(XsecLatex)\n",
    "\n",
    "            _xrange = ax_diffxsec.get_xlim()\n",
    "            _use_x = _xrange[0] + 0.05*(_xrange[1] - _xrange[0])\n",
    "            _yrange = ax_diffxsec.get_ylim()\n",
    "            _use_y = _yrange[0] + 0.80*(_yrange[1] - _yrange[0])\n",
    "            ax_diffxsec.text(_use_x, _use_y, PhaseSpaceCutLatex, fontsize=16)\n",
    "\n",
    "            ax_diffxsec.legend(loc='upper left', fontsize=20, ncols=2)\n",
    "\n",
    "            OutName = f'{PlotDir}/diffxsec_{PhaseSpaceCutName}_fluxavg_{VariableName}_{BinningString}.pdf'\n",
    "\n",
    "            fig_diffxsec.savefig(OutName, bbox_inches='tight')\n",
    "\n",
    "            fig_diffxsec, ax_diffxsec = plt.subplots(figsize=(6,6))\n",
    "            plt.close()\n",
    "\n",
    "            #-------------------------------------------\n",
    "            # numu+numubar flux-averaged mode break-down, stacked\n",
    "\n",
    "            hists = []\n",
    "            h_diffxsec_sum_mode = dict()\n",
    "            tmp_ModeNames = []\n",
    "            for NuisanceModeName in NuisanceModeMap:\n",
    "                ThisCAFMode = NuisanceModeMap[NuisanceModeName]['CAFMode']\n",
    "                ThisLatex = NuisanceModeMap[NuisanceModeName]['Latex']\n",
    "\n",
    "                h_diffxsec_sum_mode[ThisCAFMode] = np.zeros(len(Binnings)-1)\n",
    "\n",
    "                for i_NuType, NuType in enumerate(NuTypes):\n",
    "                    \n",
    "                    FluxIntegral = dict_FluxIntegral[NuType]\n",
    "\n",
    "                    h_diffxsec_sum_mode[ThisCAFMode] += hs_diffxsec_mode[NuType][ThisCAFMode] * FluxIntegral\n",
    "\n",
    "                h_diffxsec_sum_mode[ThisCAFMode] /= FluxSum\n",
    "\n",
    "                tmp_ModeNames.append(NuisanceModeName)\n",
    "                hists.append( h_diffxsec_sum_mode[ThisCAFMode] )\n",
    "\n",
    "            stackhists = [\n",
    "                np.sum( np.array( hists[:(len(hists)-i)] ), axis=0) for i in range(len(hists))\n",
    "            ]\n",
    "\n",
    "            TotalIntegral = np.sum(h_diffxsec_sum * BinWidhts)\n",
    "            print('       - TotalIntegral: %1.3e'%(TotalIntegral))\n",
    "\n",
    "            for i_s in range(len(NuisanceModeMap)):\n",
    "\n",
    "                j_s = len(NuisanceModeMap)-1-i_s\n",
    "                NuisanceModeName = tmp_ModeNames[j_s]\n",
    "                ThisLatex = NuisanceModeMap[NuisanceModeName]['Latex']\n",
    "\n",
    "                ThisArea = np.sum(hists[j_s] * BinWidhts)\n",
    "                Frac = ThisArea/TotalIntegral\n",
    "\n",
    "                ax_diffxsec.hist(\n",
    "                    Binnings[:-1], \n",
    "                    bins=Binnings,\n",
    "                    weights=stackhists[i_s],\n",
    "                    # color=SampleColor,\n",
    "                    label=f'{ThisLatex}'+' (%1.1f%%)'%(100.*Frac),\n",
    "                )\n",
    "\n",
    "            ax_diffxsec.hist(\n",
    "                Binnings[:-1], \n",
    "                bins=Binnings,\n",
    "                weights=h_diffxsec_sum,\n",
    "                color='k',\n",
    "                label='All',\n",
    "                histtype='step',\n",
    "            )\n",
    "\n",
    "            ax_diffxsec.set_xlim(Binnings[0], Binnings[-1])\n",
    "            ax_diffxsec.set_xlabel(VariableInfo.GetXaxisTitle())\n",
    "            ax_diffxsec.set_ylim(0, 1.2*y_max)\n",
    "            ax_diffxsec.set_ylabel(XsecLatex)\n",
    "\n",
    "            _xrange = ax_diffxsec.get_xlim()\n",
    "            _use_x = _xrange[0] + 0.05*(_xrange[1] - _xrange[0])\n",
    "            _yrange = ax_diffxsec.get_ylim()\n",
    "            _use_y = _yrange[0] + 0.72*(_yrange[1] - _yrange[0])\n",
    "            ax_diffxsec.text(_use_x, _use_y, PhaseSpaceCutLatex, fontsize=16)\n",
    "\n",
    "            ax_diffxsec.legend(loc='upper left', fontsize=16, ncols=2)\n",
    "\n",
    "            OutName = f'{PlotDir}/diffxsec_{PhaseSpaceCutName}_fluxavg_breakdown_{VariableName}_{BinningString}.pdf'\n",
    "\n",
    "            fig_diffxsec.savefig(OutName, bbox_inches='tight')\n",
    "            plt.close()\n",
    "\n",
    "            #-------------------------------------------\n",
    "            # numu+numubar flux-averaged mode break-down, shape\n",
    "\n",
    "            fig_diffxsec, ax_diffxsec = plt.subplots(figsize=(6,6))\n",
    "\n",
    "            y_max = -1\n",
    "            for i_s in range(len(NuisanceModeMap)):\n",
    "\n",
    "                NuisanceModeName = tmp_ModeNames[i_s]\n",
    "                ThisLatex = NuisanceModeMap[NuisanceModeName]['Latex']\n",
    "\n",
    "                ThisArea = np.sum( hists[i_s] * BinWidhts )\n",
    "\n",
    "                ax_diffxsec.hist(\n",
    "                    Binnings[:-1], \n",
    "                    bins=Binnings,\n",
    "                    weights=hists[i_s],\n",
    "                    # color=SampleColor,\n",
    "                    label=f'{ThisLatex}',\n",
    "                    histtype='step',\n",
    "                )\n",
    "\n",
    "                y_max = max(y_max, np.max(hists[i_s]))\n",
    "\n",
    "            ax_diffxsec.set_xlim(Binnings[0], Binnings[-1])\n",
    "            ax_diffxsec.set_xlabel(VariableInfo.GetXaxisTitle())\n",
    "            ax_diffxsec.set_ylim(0, 1.4*y_max)\n",
    "            ax_diffxsec.set_ylabel(XsecLatex)\n",
    "\n",
    "            _xrange = ax_diffxsec.get_xlim()\n",
    "            _use_x = _xrange[0] + 0.05*(_xrange[1] - _xrange[0])\n",
    "            _yrange = ax_diffxsec.get_ylim()\n",
    "            _use_y = _yrange[0] + 0.77*(_yrange[1] - _yrange[0])\n",
    "            ax_diffxsec.text(_use_x, _use_y, PhaseSpaceCutLatex, fontsize=16)\n",
    "\n",
    "            ax_diffxsec.legend(loc='upper left', fontsize=16, ncols=3)\n",
    "\n",
    "            OutName = f'{PlotDir}/diffxsec_{PhaseSpaceCutName}_fluxavg_permode_{VariableName}_{BinningString}.pdf'\n",
    "            fig_diffxsec.savefig(OutName, bbox_inches='tight')\n",
    "            plt.close()\n",
    "\n",
    "            #-------------------------------------------\n",
    "            # csv output\n",
    "\n",
    "            output = {\n",
    "                'x_center': BinCenters,\n",
    "                'x_err': BinErrors,\n",
    "                'xsec': h_diffxsec_sum\n",
    "            }\n",
    "            for NuisanceModeName in NuisanceModeMap:\n",
    "                ThisCAFMode = NuisanceModeMap[NuisanceModeName]['CAFMode']\n",
    "                this_col_name = f'xsec_{NuisanceModeName}'\n",
    "                output[this_col_name] = h_diffxsec_sum_mode[ThisCAFMode]\n",
    "\n",
    "            df_xsec = pd.DataFrame(output)\n",
    "\n",
    "            os.system(f'mkdir -p {WD}/xsecs')\n",
    "\n",
    "            OutCSVName = f'{WD}/xsecs/xsec_{PhaseSpaceCutName}_{GeneratorName}_{GeneratorConfigName}_{GeneratorJobName}_{VariableName}_{BinningString}.csv'\n",
    "\n",
    "            df_xsec.to_csv(OutCSVName, index=False)\n",
    "\n"
   ]
  },
  {
   "cell_type": "code",
   "execution_count": null,
   "metadata": {},
   "outputs": [],
   "source": []
  }
 ],
 "metadata": {
  "kernelspec": {
   "display_name": "myenv",
   "language": "python",
   "name": "myenv"
  },
  "language_info": {
   "codemirror_mode": {
    "name": "ipython",
    "version": 3
   },
   "file_extension": ".py",
   "mimetype": "text/x-python",
   "name": "python",
   "nbconvert_exporter": "python",
   "pygments_lexer": "ipython3",
   "version": "3.10.18"
  }
 },
 "nbformat": 4,
 "nbformat_minor": 4
}
